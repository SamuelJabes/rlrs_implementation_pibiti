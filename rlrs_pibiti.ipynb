{
 "cells": [
  {
   "cell_type": "markdown",
   "metadata": {},
   "source": [
    "# Dependencies"
   ]
  },
  {
   "cell_type": "code",
   "execution_count": 1,
   "metadata": {},
   "outputs": [],
   "source": [
    "import os\n",
    "import sys\n",
    "import pandas as pd\n",
    "import numpy as np\n",
    "\n",
    "from utils import load_data"
   ]
  },
  {
   "cell_type": "markdown",
   "metadata": {},
   "source": [
    "# Load the MovieLens Dataset"
   ]
  },
  {
   "cell_type": "code",
   "execution_count": 7,
   "metadata": {},
   "outputs": [],
   "source": [
    "DATA_DIR = \"data\"\n",
    "ratings = load_data(DATA_DIR, \"ratings.dat\")\n",
    "users = load_data(DATA_DIR, \"users.dat\")\n",
    "movies = load_data(DATA_DIR, \"movies.dat\")"
   ]
  },
  {
   "cell_type": "markdown",
   "metadata": {},
   "source": [
    "# Envinroment"
   ]
  },
  {
   "cell_type": "code",
   "execution_count": null,
   "metadata": {},
   "outputs": [],
   "source": [
    "class Env():\n",
    "    def __init__(self, users_dict, users_history_lens, movies_id_to_movies, state_size, fix_user_id=None):\n",
    "\n",
    "        self.users_dict = users_dict\n",
    "        self.users_history_lens = users_history_lens\n",
    "        self.items_id_to_name = movies_id_to_movies\n",
    "        \n",
    "        self.state_size = state_size\n",
    "        self.available_users = self._generate_available_users()\n",
    "\n",
    "        self.fix_user_id = fix_user_id\n",
    "\n",
    "        self.user = fix_user_id if fix_user_id else np.random.choice(self.available_users)\n",
    "        self.user_items = {data[0]:data[1] for data in self.users_dict[self.user]}\n",
    "        self.items = [data[0] for data in self.users_dict[self.user][:self.state_size]]\n",
    "        self.done = False\n",
    "        self.recommended_items = set(self.items)\n",
    "        self.done_count = 3000\n",
    "        \n",
    "    def _generate_available_users(self):\n",
    "        available_users = []\n",
    "        for i, length in zip(self.users_dict.keys(), self.users_history_lens):\n",
    "            if length > self.state_size:\n",
    "                available_users.append(i)\n",
    "        return available_users\n",
    "    \n",
    "    def reset(self):\n",
    "        self.user = self.fix_user_id if self.fix_user_id else np.random.choice(self.available_users)\n",
    "        self.user_items = {data[0]:data[1] for data in self.users_dict[self.user]}\n",
    "        self.items = [data[0] for data in self.users_dict[self.user][:self.state_size]]\n",
    "        self.done = False\n",
    "        self.recommended_items = set(self.items)\n",
    "        return self.user, self.items, self.done\n",
    "        \n",
    "    def step(self, action, top_k=False):\n",
    "\n",
    "        reward = -0.5\n",
    "        \n",
    "        if top_k:\n",
    "            correctly_recommended = []\n",
    "            rewards = []\n",
    "            for act in action:\n",
    "                if act in self.user_items.keys() and act not in self.recommended_items:\n",
    "                    correctly_recommended.append(act)\n",
    "                    rewards.append((self.user_items[act] - 3)/2)\n",
    "                else:\n",
    "                    rewards.append(-0.5)\n",
    "                self.recommended_items.add(act)\n",
    "            if max(rewards) > 0:\n",
    "                self.items = self.items[len(correctly_recommended):] + correctly_recommended\n",
    "            reward = rewards\n",
    "\n",
    "        else:\n",
    "            if action in self.user_items.keys() and action not in self.recommended_items:\n",
    "                reward = self.user_items[action] -3  # reward\n",
    "            if reward > 0:\n",
    "                self.items = self.items[1:] + [action]\n",
    "            self.recommended_items.add(action)\n",
    "\n",
    "        if len(self.recommended_items) > self.done_count or len(self.recommended_items) >= self.users_history_lens[self.user-1]:\n",
    "            self.done = True\n",
    "            \n",
    "        return self.items, reward, self.done, self.recommended_items\n",
    "\n",
    "    def get_items_names(self, items_ids):\n",
    "        items_names = []\n",
    "        for id in items_ids:\n",
    "            try:\n",
    "                items_names.append(self.items_id_to_name[str(id)])\n",
    "            except:\n",
    "                items_names.append(list(['Not in list']))\n",
    "        return items_names"
   ]
  }
 ],
 "metadata": {
  "kernelspec": {
   "display_name": "Python 3",
   "language": "python",
   "name": "python3"
  },
  "language_info": {
   "codemirror_mode": {
    "name": "ipython",
    "version": 3
   },
   "file_extension": ".py",
   "mimetype": "text/x-python",
   "name": "python",
   "nbconvert_exporter": "python",
   "pygments_lexer": "ipython3",
   "version": "3.10.13"
  }
 },
 "nbformat": 4,
 "nbformat_minor": 2
}
